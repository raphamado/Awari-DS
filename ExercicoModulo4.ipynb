{
 "metadata": {
  "language_info": {
   "codemirror_mode": {
    "name": "ipython",
    "version": 3
   },
   "file_extension": ".py",
   "mimetype": "text/x-python",
   "name": "python",
   "nbconvert_exporter": "python",
   "pygments_lexer": "ipython3",
   "version": "3.7.6-final"
  },
  "orig_nbformat": 2,
  "kernelspec": {
   "name": "python3",
   "display_name": "Python 3"
  }
 },
 "nbformat": 4,
 "nbformat_minor": 2,
 "cells": [
  {
   "cell_type": "code",
   "execution_count": 2,
   "metadata": {
    "tags": []
   },
   "outputs": [
    {
     "output_type": "execute_result",
     "data": {
      "text/plain": "           data  valor\n0    01/01/1992  25.84\n1    01/02/1992  22.17\n2    01/03/1992  20.74\n3    01/04/1992  20.14\n4    01/05/1992  26.93\n..          ...    ...\n338  01/03/2020  -0.14\n339  01/04/2020   0.25\n340  01/05/2020  -0.45\n341  01/06/2020  -0.26\n342  01/07/2020  -0.10\n\n[343 rows x 2 columns]",
      "text/html": "<div>\n<style scoped>\n    .dataframe tbody tr th:only-of-type {\n        vertical-align: middle;\n    }\n\n    .dataframe tbody tr th {\n        vertical-align: top;\n    }\n\n    .dataframe thead th {\n        text-align: right;\n    }\n</style>\n<table border=\"1\" class=\"dataframe\">\n  <thead>\n    <tr style=\"text-align: right;\">\n      <th></th>\n      <th>data</th>\n      <th>valor</th>\n    </tr>\n  </thead>\n  <tbody>\n    <tr>\n      <th>0</th>\n      <td>01/01/1992</td>\n      <td>25.84</td>\n    </tr>\n    <tr>\n      <th>1</th>\n      <td>01/02/1992</td>\n      <td>22.17</td>\n    </tr>\n    <tr>\n      <th>2</th>\n      <td>01/03/1992</td>\n      <td>20.74</td>\n    </tr>\n    <tr>\n      <th>3</th>\n      <td>01/04/1992</td>\n      <td>20.14</td>\n    </tr>\n    <tr>\n      <th>4</th>\n      <td>01/05/1992</td>\n      <td>26.93</td>\n    </tr>\n    <tr>\n      <th>...</th>\n      <td>...</td>\n      <td>...</td>\n    </tr>\n    <tr>\n      <th>338</th>\n      <td>01/03/2020</td>\n      <td>-0.14</td>\n    </tr>\n    <tr>\n      <th>339</th>\n      <td>01/04/2020</td>\n      <td>0.25</td>\n    </tr>\n    <tr>\n      <th>340</th>\n      <td>01/05/2020</td>\n      <td>-0.45</td>\n    </tr>\n    <tr>\n      <th>341</th>\n      <td>01/06/2020</td>\n      <td>-0.26</td>\n    </tr>\n    <tr>\n      <th>342</th>\n      <td>01/07/2020</td>\n      <td>-0.10</td>\n    </tr>\n  </tbody>\n</table>\n<p>343 rows × 2 columns</p>\n</div>"
     },
     "metadata": {},
     "execution_count": 2
    }
   ],
   "source": [
    "import requests\n",
    "import pandas as pd\n",
    "\n",
    "url = 'http://api.bcb.gov.br/dados/serie/bcdata.sgs.10844/dados?formato=json'\n",
    "\n",
    "resposta = requests.get(url).json()\n",
    "df = pd.DataFrame(resposta)\n",
    "df"
   ]
  },
  {
   "cell_type": "code",
   "execution_count": null,
   "metadata": {},
   "outputs": [],
   "source": []
  }
 ]
}