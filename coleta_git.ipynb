{
 "cells": [
  {
   "cell_type": "code",
   "execution_count": 29,
   "metadata": {},
   "outputs": [],
   "source": [
    "import requests\n",
    "from bs4 import BeautifulSoup\n",
    "import re\n",
    "import numpy as np\n",
    "import pandas as pd\n",
    "from time import sleep"
   ]
  },
  {
   "cell_type": "code",
   "execution_count": 30,
   "metadata": {},
   "outputs": [],
   "source": [
    "def dadosPagina(conteudo, zona):\n",
    "\n",
    "    lista_precos = []\n",
    "    lista_areas = []\n",
    "    lista_quartos = []\n",
    "\n",
    "    sopa = BeautifulSoup(conteudo)\n",
    "\n",
    "    sopa_precos = sopa.find_all('span', class_='price__fraction')\n",
    "    if sopa_precos == []:\n",
    "        sopa_precos = sopa.find_all('span', class_='price-tag-fraction')\n",
    "        \n",
    "    for preco in sopa_precos:\n",
    "        lista_precos.append(preco.text.replace('.', ''))\n",
    "        \n",
    "    sopa_string = sopa.find_all('div', class_='item__attrs')\n",
    "    if sopa_string != []:\n",
    "        for elemento in sopa_string:\n",
    "            if \"|\" in str(elemento):\n",
    "                area = re.search(r'\\d+', elemento.text.split(' | ')[0]).group()\n",
    "                quarto = re.search(r'\\d+', elemento.text.split(' | ')[1]).group()\n",
    "            elif \"quarto\" in str(elemento):\n",
    "                quarto = re.search(r'\\d+', elemento.text.split(' | ')[0]).group()\n",
    "                area = np.nan\n",
    "            else:\n",
    "                area = re.search(r'\\d+', elemento.text.split(' | ')[0]).group()\n",
    "                quarto = np.nan\n",
    "            \n",
    "            lista_areas.append(area)\n",
    "            lista_quartos.append(quarto)        \n",
    "    else:\n",
    "        sopa_string = sopa.find_all('li', class_='ui-search-card-attributes__attribute')\n",
    "        lista_areas_precos = []\n",
    "        i = 0\n",
    "        while i <= len(sopa_string) -1 :\n",
    "            if 'm²' not in str(sopa_string[i]):\n",
    "                sopa_string.insert(i, \"nada\")\n",
    "                lista_areas_precos.append(str(sopa_string[i]) + ' , ' + re.search(r'\\d+', str(sopa_string[i+1])).group())\n",
    "                i += 2\n",
    "            elif 'quarto' not in str(sopa_string[i+1]):\n",
    "                sopa_string.insert(i+1, \"nada\")\n",
    "                lista_areas_precos.append(re.search(r'\\d+', str(sopa_string[i])).group() + ' , ' + str(sopa_string[i+1]))\n",
    "                i += 2\n",
    "            else:\n",
    "                lista_areas_precos.append(re.search(r'\\d+', str(sopa_string[i])).group() + ' , ' + re.search(r'\\d+', str(sopa_string[i+1])).group())\n",
    "                i += 2\n",
    "        for elemento in lista_areas_precos:\n",
    "            lista_areas.append(elemento.split(',')[0])\n",
    "            lista_quartos.append(elemento.split(',')[1])   \n",
    "    \n",
    "\n",
    "    lista_zona = [zona]*len(lista_precos)\n",
    "    \n",
    "    dados = {'zona': lista_zona, 'preco': lista_precos, 'area': lista_areas, 'quartos': lista_quartos}\n",
    "    df = pd.DataFrame(dados)\n",
    "    \n",
    "    return df\n",
    "    \n"
   ]
  },
  {
   "cell_type": "code",
   "execution_count": 31,
   "metadata": {},
   "outputs": [],
   "source": [
    "def zonaPaginas(zona):\n",
    "    controle = 0\n",
    "    numero = 1\n",
    "    lista_df = []\n",
    "    while controle == 0:\n",
    "        if numero == 1:\n",
    "\n",
    "            url = 'https://imoveis.mercadolivre.com.br/casas/aluguel/rio-de-janeiro/rio-de-janeiro-zona-{}/'\n",
    "            if requests.get(url.format(zona)).status_code == 200:\n",
    "                conteudo = requests.get(url.format(zona)).content\n",
    "                lista_df.append(dadosPagina(conteudo, zona))\n",
    "                sleep(3)\n",
    "                numero += 48\n",
    "            else:\n",
    "                controle = -1\n",
    "        else:\n",
    "            url = 'https://imoveis.mercadolivre.com.br/casas/aluguel/rio-de-janeiro/rio-de-janeiro-zona-{}/_Desde_{}'          \n",
    "            \n",
    "            if requests.get(url.format(zona, numero)).status_code == 200:\n",
    "                print(f'Desde_{numero}')\n",
    "                conteudo = requests.get(url.format(zona, numero)).content\n",
    "                lista_df.append(dadosPagina(conteudo, zona))\n",
    "                sleep(3)\n",
    "                numero += 48\n",
    "            else:\n",
    "                controle = -1\n",
    "\n",
    "    return lista_df\n"
   ]
  },
  {
   "cell_type": "code",
   "execution_count": 73,
   "metadata": {
    "tags": []
   },
   "outputs": [
    {
     "output_type": "stream",
     "name": "stdout",
     "text": "Desde_49\nDesde_97\nDesde_145\n"
    },
    {
     "output_type": "error",
     "ename": "IndexError",
     "evalue": "list index out of range",
     "traceback": [
      "\u001b[1;31m---------------------------------------------------------------------------\u001b[0m",
      "\u001b[1;31mIndexError\u001b[0m                                Traceback (most recent call last)",
      "\u001b[1;32m<ipython-input-73-2fb00c79d030>\u001b[0m in \u001b[0;36m<module>\u001b[1;34m\u001b[0m\n\u001b[0;32m      3\u001b[0m \u001b[0mlista_dfs\u001b[0m \u001b[1;33m=\u001b[0m \u001b[1;33m[\u001b[0m\u001b[1;33m]\u001b[0m\u001b[1;33m\u001b[0m\u001b[1;33m\u001b[0m\u001b[0m\n\u001b[0;32m      4\u001b[0m \u001b[1;32mfor\u001b[0m \u001b[0mlocal\u001b[0m \u001b[1;32min\u001b[0m \u001b[0mlocalidades\u001b[0m\u001b[1;33m:\u001b[0m\u001b[1;33m\u001b[0m\u001b[1;33m\u001b[0m\u001b[0m\n\u001b[1;32m----> 5\u001b[1;33m     \u001b[0mdf\u001b[0m \u001b[1;33m=\u001b[0m \u001b[0mzonaPaginas\u001b[0m\u001b[1;33m(\u001b[0m\u001b[0mlocal\u001b[0m\u001b[1;33m)\u001b[0m\u001b[1;33m\u001b[0m\u001b[1;33m\u001b[0m\u001b[0m\n\u001b[0m\u001b[0;32m      6\u001b[0m     \u001b[0mlista_dfs\u001b[0m \u001b[1;33m+=\u001b[0m \u001b[0mdf\u001b[0m\u001b[1;33m\u001b[0m\u001b[1;33m\u001b[0m\u001b[0m\n\u001b[0;32m      7\u001b[0m \u001b[1;33m\u001b[0m\u001b[0m\n",
      "\u001b[1;32m<ipython-input-31-6a4639b9ecec>\u001b[0m in \u001b[0;36mzonaPaginas\u001b[1;34m(zona)\u001b[0m\n\u001b[0;32m      9\u001b[0m             \u001b[1;32mif\u001b[0m \u001b[0mrequests\u001b[0m\u001b[1;33m.\u001b[0m\u001b[0mget\u001b[0m\u001b[1;33m(\u001b[0m\u001b[0murl\u001b[0m\u001b[1;33m.\u001b[0m\u001b[0mformat\u001b[0m\u001b[1;33m(\u001b[0m\u001b[0mzona\u001b[0m\u001b[1;33m)\u001b[0m\u001b[1;33m)\u001b[0m\u001b[1;33m.\u001b[0m\u001b[0mstatus_code\u001b[0m \u001b[1;33m==\u001b[0m \u001b[1;36m200\u001b[0m\u001b[1;33m:\u001b[0m\u001b[1;33m\u001b[0m\u001b[1;33m\u001b[0m\u001b[0m\n\u001b[0;32m     10\u001b[0m                 \u001b[0mconteudo\u001b[0m \u001b[1;33m=\u001b[0m \u001b[0mrequests\u001b[0m\u001b[1;33m.\u001b[0m\u001b[0mget\u001b[0m\u001b[1;33m(\u001b[0m\u001b[0murl\u001b[0m\u001b[1;33m.\u001b[0m\u001b[0mformat\u001b[0m\u001b[1;33m(\u001b[0m\u001b[0mzona\u001b[0m\u001b[1;33m)\u001b[0m\u001b[1;33m)\u001b[0m\u001b[1;33m.\u001b[0m\u001b[0mcontent\u001b[0m\u001b[1;33m\u001b[0m\u001b[1;33m\u001b[0m\u001b[0m\n\u001b[1;32m---> 11\u001b[1;33m                 \u001b[0mlista_df\u001b[0m\u001b[1;33m.\u001b[0m\u001b[0mappend\u001b[0m\u001b[1;33m(\u001b[0m\u001b[0mdadosPagina\u001b[0m\u001b[1;33m(\u001b[0m\u001b[0mconteudo\u001b[0m\u001b[1;33m,\u001b[0m \u001b[0mzona\u001b[0m\u001b[1;33m)\u001b[0m\u001b[1;33m)\u001b[0m\u001b[1;33m\u001b[0m\u001b[1;33m\u001b[0m\u001b[0m\n\u001b[0m\u001b[0;32m     12\u001b[0m                 \u001b[0msleep\u001b[0m\u001b[1;33m(\u001b[0m\u001b[1;36m3\u001b[0m\u001b[1;33m)\u001b[0m\u001b[1;33m\u001b[0m\u001b[1;33m\u001b[0m\u001b[0m\n\u001b[0;32m     13\u001b[0m                 \u001b[0mnumero\u001b[0m \u001b[1;33m+=\u001b[0m \u001b[1;36m48\u001b[0m\u001b[1;33m\u001b[0m\u001b[1;33m\u001b[0m\u001b[0m\n",
      "\u001b[1;32m<ipython-input-30-177ea4499995>\u001b[0m in \u001b[0;36mdadosPagina\u001b[1;34m(conteudo, zona)\u001b[0m\n\u001b[0;32m     38\u001b[0m                 \u001b[0mlista_areas_precos\u001b[0m\u001b[1;33m.\u001b[0m\u001b[0mappend\u001b[0m\u001b[1;33m(\u001b[0m\u001b[0mstr\u001b[0m\u001b[1;33m(\u001b[0m\u001b[0msopa_string\u001b[0m\u001b[1;33m[\u001b[0m\u001b[0mi\u001b[0m\u001b[1;33m]\u001b[0m\u001b[1;33m)\u001b[0m \u001b[1;33m+\u001b[0m \u001b[1;34m' , '\u001b[0m \u001b[1;33m+\u001b[0m \u001b[0mre\u001b[0m\u001b[1;33m.\u001b[0m\u001b[0msearch\u001b[0m\u001b[1;33m(\u001b[0m\u001b[1;34mr'\\d+'\u001b[0m\u001b[1;33m,\u001b[0m \u001b[0mstr\u001b[0m\u001b[1;33m(\u001b[0m\u001b[0msopa_string\u001b[0m\u001b[1;33m[\u001b[0m\u001b[0mi\u001b[0m\u001b[1;33m+\u001b[0m\u001b[1;36m1\u001b[0m\u001b[1;33m]\u001b[0m\u001b[1;33m)\u001b[0m\u001b[1;33m)\u001b[0m\u001b[1;33m.\u001b[0m\u001b[0mgroup\u001b[0m\u001b[1;33m(\u001b[0m\u001b[1;33m)\u001b[0m\u001b[1;33m)\u001b[0m\u001b[1;33m\u001b[0m\u001b[1;33m\u001b[0m\u001b[0m\n\u001b[0;32m     39\u001b[0m                 \u001b[0mi\u001b[0m \u001b[1;33m+=\u001b[0m \u001b[1;36m2\u001b[0m\u001b[1;33m\u001b[0m\u001b[1;33m\u001b[0m\u001b[0m\n\u001b[1;32m---> 40\u001b[1;33m             \u001b[1;32melif\u001b[0m \u001b[1;34m'quarto'\u001b[0m \u001b[1;32mnot\u001b[0m \u001b[1;32min\u001b[0m \u001b[0mstr\u001b[0m\u001b[1;33m(\u001b[0m\u001b[0msopa_string\u001b[0m\u001b[1;33m[\u001b[0m\u001b[0mi\u001b[0m\u001b[1;33m+\u001b[0m\u001b[1;36m1\u001b[0m\u001b[1;33m]\u001b[0m\u001b[1;33m)\u001b[0m\u001b[1;33m:\u001b[0m\u001b[1;33m\u001b[0m\u001b[1;33m\u001b[0m\u001b[0m\n\u001b[0m\u001b[0;32m     41\u001b[0m                 \u001b[0msopa_string\u001b[0m\u001b[1;33m.\u001b[0m\u001b[0minsert\u001b[0m\u001b[1;33m(\u001b[0m\u001b[0mi\u001b[0m\u001b[1;33m+\u001b[0m\u001b[1;36m1\u001b[0m\u001b[1;33m,\u001b[0m \u001b[1;34m\"nada\"\u001b[0m\u001b[1;33m)\u001b[0m\u001b[1;33m\u001b[0m\u001b[1;33m\u001b[0m\u001b[0m\n\u001b[0;32m     42\u001b[0m                 \u001b[0mlista_areas_precos\u001b[0m\u001b[1;33m.\u001b[0m\u001b[0mappend\u001b[0m\u001b[1;33m(\u001b[0m\u001b[0mre\u001b[0m\u001b[1;33m.\u001b[0m\u001b[0msearch\u001b[0m\u001b[1;33m(\u001b[0m\u001b[1;34mr'\\d+'\u001b[0m\u001b[1;33m,\u001b[0m \u001b[0mstr\u001b[0m\u001b[1;33m(\u001b[0m\u001b[0msopa_string\u001b[0m\u001b[1;33m[\u001b[0m\u001b[0mi\u001b[0m\u001b[1;33m]\u001b[0m\u001b[1;33m)\u001b[0m\u001b[1;33m)\u001b[0m\u001b[1;33m.\u001b[0m\u001b[0mgroup\u001b[0m\u001b[1;33m(\u001b[0m\u001b[1;33m)\u001b[0m \u001b[1;33m+\u001b[0m \u001b[1;34m' , '\u001b[0m \u001b[1;33m+\u001b[0m \u001b[0mstr\u001b[0m\u001b[1;33m(\u001b[0m\u001b[0msopa_string\u001b[0m\u001b[1;33m[\u001b[0m\u001b[0mi\u001b[0m\u001b[1;33m+\u001b[0m\u001b[1;36m1\u001b[0m\u001b[1;33m]\u001b[0m\u001b[1;33m)\u001b[0m\u001b[1;33m)\u001b[0m\u001b[1;33m\u001b[0m\u001b[1;33m\u001b[0m\u001b[0m\n",
      "\u001b[1;31mIndexError\u001b[0m: list index out of range"
     ]
    }
   ],
   "source": [
    "localidades = ['norte', 'sul', 'oeste']\n",
    "\n",
    "lista_dfs = []\n",
    "for local in localidades:\n",
    "    df = zonaPaginas(local)\n",
    "    lista_dfs += df\n",
    "\n"
   ]
  },
  {
   "cell_type": "code",
   "execution_count": 67,
   "metadata": {},
   "outputs": [],
   "source": [
    "dados_raw = pd.concat(lista_dfs[0] + lista_dfs[1] + lista_dfs [2])"
   ]
  },
  {
   "cell_type": "code",
   "execution_count": 70,
   "metadata": {},
   "outputs": [
    {
     "output_type": "execute_result",
     "data": {
      "text/plain": "     zona       preco  area quartos\n0   norte  1048049932  220        4\n1   norte        3000  239        2\n2   norte        1450   89        3\n3   norte         900   44        2\n4   norte         750   40        1\n..    ...         ...   ...     ...\n37  oeste         600    36       1\n38  oeste         400    60       2\n39  oeste        1000    50       1\n40  oeste         650    50       1\n41  oeste         600    55       2\n\n[625 rows x 4 columns]",
      "text/html": "<div>\n<style scoped>\n    .dataframe tbody tr th:only-of-type {\n        vertical-align: middle;\n    }\n\n    .dataframe tbody tr th {\n        vertical-align: top;\n    }\n\n    .dataframe thead th {\n        text-align: right;\n    }\n</style>\n<table border=\"1\" class=\"dataframe\">\n  <thead>\n    <tr style=\"text-align: right;\">\n      <th></th>\n      <th>zona</th>\n      <th>preco</th>\n      <th>area</th>\n      <th>quartos</th>\n    </tr>\n  </thead>\n  <tbody>\n    <tr>\n      <th>0</th>\n      <td>norte</td>\n      <td>1048049932</td>\n      <td>220</td>\n      <td>4</td>\n    </tr>\n    <tr>\n      <th>1</th>\n      <td>norte</td>\n      <td>3000</td>\n      <td>239</td>\n      <td>2</td>\n    </tr>\n    <tr>\n      <th>2</th>\n      <td>norte</td>\n      <td>1450</td>\n      <td>89</td>\n      <td>3</td>\n    </tr>\n    <tr>\n      <th>3</th>\n      <td>norte</td>\n      <td>900</td>\n      <td>44</td>\n      <td>2</td>\n    </tr>\n    <tr>\n      <th>4</th>\n      <td>norte</td>\n      <td>750</td>\n      <td>40</td>\n      <td>1</td>\n    </tr>\n    <tr>\n      <th>...</th>\n      <td>...</td>\n      <td>...</td>\n      <td>...</td>\n      <td>...</td>\n    </tr>\n    <tr>\n      <th>37</th>\n      <td>oeste</td>\n      <td>600</td>\n      <td>36</td>\n      <td>1</td>\n    </tr>\n    <tr>\n      <th>38</th>\n      <td>oeste</td>\n      <td>400</td>\n      <td>60</td>\n      <td>2</td>\n    </tr>\n    <tr>\n      <th>39</th>\n      <td>oeste</td>\n      <td>1000</td>\n      <td>50</td>\n      <td>1</td>\n    </tr>\n    <tr>\n      <th>40</th>\n      <td>oeste</td>\n      <td>650</td>\n      <td>50</td>\n      <td>1</td>\n    </tr>\n    <tr>\n      <th>41</th>\n      <td>oeste</td>\n      <td>600</td>\n      <td>55</td>\n      <td>2</td>\n    </tr>\n  </tbody>\n</table>\n<p>625 rows × 4 columns</p>\n</div>"
     },
     "metadata": {},
     "execution_count": 70
    }
   ],
   "source": [
    "dados_raw"
   ]
  },
  {
   "cell_type": "code",
   "execution_count": null,
   "metadata": {},
   "outputs": [],
   "source": []
  }
 ],
 "metadata": {
  "kernelspec": {
   "display_name": "Python 3",
   "language": "python",
   "name": "python3"
  },
  "language_info": {
   "codemirror_mode": {
    "name": "ipython",
    "version": 3
   },
   "file_extension": ".py",
   "mimetype": "text/x-python",
   "name": "python",
   "nbconvert_exporter": "python",
   "pygments_lexer": "ipython3",
   "version": "3.8.3-final"
  }
 },
 "nbformat": 4,
 "nbformat_minor": 2
}