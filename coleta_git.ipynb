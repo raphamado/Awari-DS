{
 "cells": [
  {
   "cell_type": "code",
   "execution_count": 1,
   "metadata": {},
   "outputs": [],
   "source": [
    "import requests\n",
    "from bs4 import BeautifulSoup\n",
    "import re\n",
    "import numpy as np\n",
    "import pandas as pd\n",
    "from time import sleep"
   ]
  },
  {
   "cell_type": "code",
   "execution_count": 2,
   "metadata": {},
   "outputs": [],
   "source": [
    "def dadosPagina(sopa, zona):\n",
    "\n",
    "    lista_precos = []\n",
    "    lista_areas = []\n",
    "    lista_quartos = []\n",
    "\n",
    "    sopa_precos = sopa.find_all('span', class_='price__fraction')\n",
    "    if sopa_precos == []:\n",
    "        sopa_precos = sopa.find_all('span', class_='price-tag-fraction')\n",
    "        \n",
    "    for preco in sopa_precos:\n",
    "        lista_precos.append(preco.text.replace('.', ''))\n",
    "        \n",
    "    sopa_string = sopa.find_all('div', class_='item__attrs')\n",
    "    if sopa_string != []:\n",
    "        for elemento in sopa_string:\n",
    "            if \"|\" in str(elemento):\n",
    "                area = re.search(r'\\d+', elemento.text.split(' | ')[0]).group()\n",
    "                quarto = re.search(r'\\d+', elemento.text.split(' | ')[1]).group()\n",
    "            elif \"quarto\" in str(elemento):\n",
    "                quarto = re.search(r'\\d+', elemento.text.split(' | ')[0]).group()\n",
    "                area = np.nan\n",
    "            else:\n",
    "                area = re.search(r'\\d+', elemento.text.split(' | ')[0]).group()\n",
    "                quarto = np.nan\n",
    "            \n",
    "            lista_areas.append(area)\n",
    "            lista_quartos.append(quarto)        \n",
    "    else:\n",
    "        sopa_string = sopa.find_all('li', class_='ui-search-card-attributes__attribute')\n",
    "        lista_areas_quartos = []\n",
    "        i = 0\n",
    "        if 'quarto' not in str(sopa_string[-1]):\n",
    "            sopa_string.append('nada')\n",
    "            \n",
    "        while i <= len(sopa_string) -1 :\n",
    "            if 'm²' not in str(sopa_string[i]):\n",
    "                sopa_string.insert(i, \"nada\")\n",
    "                lista_areas_quartos.append(str(sopa_string[i]) + ' , ' + re.search(r'\\d+', str(sopa_string[i+1])).group())\n",
    "                i += 2\n",
    "            elif 'quarto' not in str(sopa_string[i+1]) and str(sopa_string[i+1]) != 'nada':\n",
    "                sopa_string.insert(i+1, \"nada\")\n",
    "                lista_areas_quartos.append(re.search(r'\\d+', str(sopa_string[i])).group() + ' , ' + str(sopa_string[i+1]))\n",
    "                i += 2\n",
    "            else:\n",
    "                if str(sopa_string[i+1]) != 'nada':\n",
    "                    lista_areas_quartos.append(re.search(r'\\d+', str(sopa_string[i])).group() + ' , ' + re.search(r'\\d+', str(sopa_string[i+1])).group())\n",
    "                    i += 2\n",
    "                else:\n",
    "                    lista_areas_quartos.append(re.search(r'\\d+', str(sopa_string[i])).group() + ' , nada')\n",
    "                    i += 2\n",
    "                    \n",
    "        for elemento in lista_areas_quartos:\n",
    "            lista_areas.append(elemento.split(',')[0])\n",
    "            lista_quartos.append(elemento.split(',')[1])   \n",
    "    \n",
    "\n",
    "    lista_zona = [zona]*len(lista_precos)\n",
    "    \n",
    "    dados = {'zona': lista_zona, 'preco': lista_precos, 'area': lista_areas, 'quartos': lista_quartos}\n",
    "    df = pd.DataFrame(dados)\n",
    "    \n",
    "    return df\n",
    "    \n"
   ]
  },
  {
   "cell_type": "code",
   "execution_count": 3,
   "metadata": {},
   "outputs": [],
   "source": [
    "def zonaPaginas(zona):\n",
    "\n",
    "    lista_df = []\n",
    "    lista_urls = []\n",
    "\n",
    "    url = 'https://imoveis.mercadolivre.com.br/casas/aluguel/rio-de-janeiro/rio-de-janeiro-zona-{}/'\n",
    "    if requests.get(url.format(zona)).status_code == 200:\n",
    "        conteudo = requests.get(url.format(zona)).content\n",
    "        sopa = BeautifulSoup(conteudo)\n",
    "        lista_df.append(dadosPagina(sopa, zona))\n",
    "        sleep(3)\n",
    "        links = sopa.find_all(\"li\", class_= 'andes-pagination__button')\n",
    "        pagina = 1 \n",
    "\n",
    "        for link in links:\n",
    "            re_link = 'href=\"(.*)\">{}</a>'.format(pagina)\n",
    "            lista_urls.append(re.findall(re_link, str(link)))\n",
    "            pagina +=1\n",
    "        \n",
    "        for i in range(1, len(lista_urls) -1):\n",
    "            if lista_urls is not []:\n",
    "                link_url = lista_urls[i][0]\n",
    "                print(link_url)\n",
    "                conteudo_link = requests.get(link_url).content\n",
    "                sopa = BeautifulSoup(conteudo_link)\n",
    "                lista_df.append(dadosPagina(sopa, zona))\n",
    "                sleep(3)\n",
    "    else:\n",
    "        print('Página fora do ar')\n",
    "\n",
    "    return lista_df\n"
   ]
  },
  {
   "cell_type": "code",
   "execution_count": 4,
   "metadata": {
    "tags": []
   },
   "outputs": [
    {
     "output_type": "stream",
     "name": "stdout",
     "text": "norte\nhttps://imoveis.mercadolivre.com.br/casas/aluguel/rio-de-janeiro/rio-de-janeiro-zona-norte/_Desde_49\nhttps://imoveis.mercadolivre.com.br/casas/aluguel/rio-de-janeiro/rio-de-janeiro-zona-norte/_Desde_97\nsul\nhttps://imoveis.mercadolivre.com.br/casas/aluguel/rio-de-janeiro/rio-de-janeiro-zona-sul/_Desde_49\nhttps://imoveis.mercadolivre.com.br/casas/aluguel/rio-de-janeiro/rio-de-janeiro-zona-sul/_Desde_97\noeste\nhttps://imoveis.mercadolivre.com.br/casas/aluguel/rio-de-janeiro/rio-de-janeiro-zona-oeste/_Desde_49\nhttps://imoveis.mercadolivre.com.br/casas/aluguel/rio-de-janeiro/rio-de-janeiro-zona-oeste/_Desde_97\nhttps://imoveis.mercadolivre.com.br/casas/aluguel/rio-de-janeiro/rio-de-janeiro-zona-oeste/_Desde_145\nhttps://imoveis.mercadolivre.com.br/casas/aluguel/rio-de-janeiro/rio-de-janeiro-zona-oeste/_Desde_193\nhttps://imoveis.mercadolivre.com.br/casas/aluguel/rio-de-janeiro/rio-de-janeiro-zona-oeste/_Desde_241\nhttps://imoveis.mercadolivre.com.br/casas/aluguel/rio-de-janeiro/rio-de-janeiro-zona-oeste/_Desde_289\nhttps://imoveis.mercadolivre.com.br/casas/aluguel/rio-de-janeiro/rio-de-janeiro-zona-oeste/_Desde_337\n"
    }
   ],
   "source": [
    "localidades = ['norte', 'sul', 'oeste']\n",
    "\n",
    "lista_dfs = []\n",
    "for local in localidades:\n",
    "    print(local)\n",
    "    df = zonaPaginas(local)\n",
    "    lista_dfs += df\n",
    "\n"
   ]
  },
  {
   "cell_type": "code",
   "execution_count": 5,
   "metadata": {},
   "outputs": [
    {
     "output_type": "execute_result",
     "data": {
      "text/plain": "      2300    95        3\n 19  norte         800    40        1\n 20  norte        3000  nada        2\n 21  norte        7000   240     nada\n 22  norte        2300    81        2\n 23  norte        2300    90        2\n 24  norte        3000   120        3\n 25  norte        8000   350        6\n 26  norte        3000   188        4\n 27  norte        2700    70        2\n 28  norte        7000   250        7\n 29  norte       18000     1        4\n 30  norte          89    70        2\n 31  norte        6000   200        2\n 32  norte        1900    60        3\n 33  norte        1900    76        2\n 34  norte        1200    52        2\n 35  norte        3000   127        2\n 36  norte        1700    70        2\n 37  norte        4000   233        2\n 38  norte        3500   220     nada\n 39  norte        1800    80        2\n 40  norte        3000   239        2\n 41  norte        2200    76        2\n 42  norte         800    60        1\n 43  norte        6000   198        2\n 44  norte         800    34        1\n 45  norte        1600    88        2\n 46  norte         800  nada        1\n 47  norte       12000   500        1,\n      zona  preco  area quartos\n 0   norte   1000   70        2\n 1   norte  12000  300        5\n 2   norte    650   45        1\n 3   norte   1600   70        2\n 4   norte   1400   63        2\n 5   norte   1100   63        2\n 6   norte   2300  160        2\n 7   norte   1100   70        1\n 8   norte   1300   60        2\n 9   norte   1200   65        2\n 10  norte   2000  170        3\n 11  norte   5000  450     nada\n 12  norte    600   50        1\n 13  norte   4800  207     nada\n 14  norte   7500  482        5\n 15  norte   1500  143        2\n 16  norte    800   61        1\n 17  norte    900   25        1\n 18  norte   1350   58        2\n 19  norte   1500   70        3\n 20  norte   1500   80        2\n 21  norte   1000   48        2\n 22  norte    650   45        1\n 23  norte    750   38        1\n 24  norte    800   50        1\n 25  norte    600   40        1\n 26  norte    600   35        1\n 27  norte  25000    1        8\n 28  norte   1400   60        2\n 29  norte    500   34        1\n 30  norte   1500   60        2\n 31  norte    800   50        1\n 32  norte   1000   50        1\n 33  norte    750   70        3\n 34  norte   2000   90        3\n 35  norte    800   35        2\n 36  norte   1100   63        2\n 37  norte   1200   90        2\n 38  norte    650   32        1\n 39  norte   1000   70        2\n 40  norte   1800  107        3\n 41  norte   1600   70        3\n 42  norte   1000   70        2\n 43  norte   1500   71        3\n 44  norte    850   60        2\n 45  norte    650   45        1\n 46  norte   1000   70        2\n 47  norte    900   53        2,\n      zona preco  area quartos\n 0   norte   850   60        2\n 1   norte   700   60        1\n 2   norte   900   55        2\n 3   norte   580   41        1\n 4   norte   560   46        1\n 5   norte  1100   70        2\n 6   norte   650   38        1\n 7   norte   650   40        2\n 8   norte   750   59        2\n 9   norte  1000   90        3\n 10  norte   700   37        1\n 11  norte   900   45        2\n 12  norte   550   40        1\n 13  norte   800   33        2\n 14  norte   600   48        1\n 15  norte   550   39        1\n 16  norte   600   50        1\n 17  norte   500   43        1\n 18  norte   700   55        2\n 19  norte  1400  140        3\n 20  norte   700   50        1\n 21  norte    79   60        1\n 22  norte   400   60        1\n 23  norte  1100   90        2\n 24  norte   700   10        1\n 25  norte  4100  260        5\n 26  norte  1050   25        1\n 27  norte   650   15        1\n 28  norte  1200   80        2\n 29  norte  1200  100        1\n 30  norte   495  110        3\n 31  norte   700   40        1\n 32  norte   950   70        2\n 33  norte   700   50        1\n 34  norte   700   55        1\n 35  norte   430  100        1\n 36  norte   550  116        1,\n    zona  preco  area quartos\n 0   sul  12000  495        4\n 1   sul  15000  600        4\n 2   sul  12500  300       11\n 3   sul  17500  845        4\n 4   sul   1300   18        1\n 5   sul  13000  200        9\n 6   sul   4700   88        2\n 7   sul   2200   37        1\n 8   sul  12500  250        8\n 9   sul   8000  260     nada\n 10  sul   5200  207     nada\n 11  sul   6000  170        4\n 12  sul   1600   30     nada\n 13  sul   3000  230     nada\n 14  sul  10000  410        5\n 15  sul   5000  350        4\n 16  sul  22999    1       15\n 17  sul  12000  300        5\n 18  sul   8000  200     nada\n 19  sul   3400  100        3\n 20  sul  10000  250     nada\n 21  sul  10000  135     nada\n 22  sul   8500  400     nada\n 23  sul  22000  268     nada\n 24  sul  17500  845        5\n 25  sul  15000  300     nada\n 26  sul  20000  240        5\n 27  sul  12500  600        4\n 28  sul  12000  500        4\n 29  sul  11000  530        4\n 30  sul   4500   90        2\n 31  sul   4000  130        2\n 32  sul  11000  429        4\n 33  sul  12000  550        5\n 34  sul  12500  480        4\n 35  sul  22000  268        1\n 36  sul   3990  100        3\n 37  sul   9800  200        3\n 38  sul  11000  166        4\n 39  sul  12500  230     nada\n 40  sul   8000  166     nada\n 41  sul  25000  500     nada\n 42  sul  20000  268        3\n 43  sul  35000  845        4\n 44  sul   5000   98     nada\n 45  sul  15000  248        9\n 46  sul  10000  500        5\n 47  sul   7900  145        4,\n    zona  preco  area quartos\n 0   sul  19000  230     nada\n 1   sul  18500  300     nada\n 2   sul   9000  260        8\n 3   sul   3200   74        3\n 4   sul  17500  750        4\n 5   sul   4500   60        4\n 6   sul  30000  400        4\n 7   sul  13000  180     nada\n 8   sul  16000  699        4\n 9   sul  16900  270        5\n 10  sul  29000  900       20\n 11  sul  27000  200        3\n 12  sul  12000  428        4\n 13  sul  10990  250        4\n 14  sul  23000    1       15\n 15  sul   1800   30        1\n 16  sul  10000  250        3\n 17  sul  11600  200        7\n 18  sul  28000    1        8\n 19  sul   9000  280        4\n 20  sul  18000  650        5\n 21  sul  15500  271     nada\n 22  sul  17500  845        4\n 23  sul  11000  300        3\n 24  sul  10000  240     nada\n 25  sul  13000  485        4\n 26  sul  17500  850        5\n 27  sul  19900  434     nada\n 28  sul  25000  465       22\n 29  sul  20000  700        5\n 30  sul   4700   88        2\n 31  sul   7000  225     nada\n 32  sul  25000    1        4\n 33  sul  20000  400        4\n 34  sul  11000  429        5\n 35  sul  14000  422        2\n 36  sul   8000  152        4\n 37  sul  11000  465        4\n 38  sul  17500    1        5\n 39  sul  19500  750        4\n 40  sul   4500  127        4\n 41  sul  15500  294        5\n 42  sul  20000  246     nada\n 43  sul   9800  260        3\n 44  sul   1000   26        1\n 45  sul   3000   82        3\n 46  sul   8500  300        5\n 47  sul  21000  136     nada,\n    zona  preco  area quartos\n 0   sul  20000  136        4\n 1   sul    900   18        1\n 2   sul  13000  400        4\n 3   sul  19000  200     nada\n 4   sul   1200   24        1\n 5   sul  18000  280     nada\n 6   sul   1190   24        1\n 7   sul   3720  125        3\n 8   sul  25000  595        5\n 9   sul   5000  127        4\n 10  sul  13000  445        8\n 11  sul   5000  134        4\n 12  sul  21000  845        5\n 13  sul   1600  116        3\n 14  sul   1200  100        1\n 15  sul   3000   78        2,\n      zona    preco  area quartos\n 0   oeste     8000  644        4\n 1   oeste     8000  633        3\n 2   oeste      850   55        2\n 3   oeste     1200  120        3\n 4   oeste     1000   60        2\n 5   oeste     2500  170        2\n 6   oeste     1500  200        2\n 7   oeste     1500  250        3\n 8   oeste     1000   70        2\n 9   oeste     1100   70        2\n 10  oeste  7800000  937        5\n 11  oeste      600   42        1\n 12  oeste     2300  120        2\n 13  oeste      889   80        2\n 14  oeste     2500  125        2\n 15  oeste     2500  110        3\n 16  oeste     1300   60        2\n 17  oeste     1000   70        2\n 18  oeste      500   32        1\n 19  oeste    10500  543        4\n 20  oeste    12000  634        5\n 21  oeste     1700   63        3\n 22  oeste     2650  300        4\n 23  oeste    15000  600        5\n 24  oeste     1700  100        3\n 25  oeste     1300   85        2\n 26  oeste     1300  120        4\n 27  oeste     2000  172        3\n 28  oeste     1100   70        2\n 29  oeste     8000  633        3\n 30  oeste     3000  165        4\n 31  oeste    10000  619        4\n 32  oeste      600   50        2\n 33  oeste      800   27        1\n 34  oeste     1300  120        2\n 35  oeste     1250   57        2\n 36  oeste     2000  118        3\n 37  oeste     1500  250        3\n 38  oeste     2500  130        3\n 39  oeste      500   34        1\n 40  oeste     2200  120        3\n 41  oeste     1200   99        2\n 42  oeste     3100  300        3\n 43  oeste     1100   58        2\n 44  oeste     1600   90        2\n 45  oeste      745   63        2\n 46  oeste      650   63        2\n 47  oeste      900   71        2,\n      zona  preco   area quartos\n 0   oeste    900    69        2\n 1   oeste    500    60        1\n 2   oeste    600    56     nada\n 3   oeste    800    49        1\n 4   oeste    900    54        2\n 5   oeste   2000   303        4\n 6   oeste   1000    45        2\n 7   oeste   5500   350        3\n 8   oeste    700    40        1\n 9   oeste    800    70        2\n 10  oeste   1000    50        2\n 11  oeste    900    80        1\n 12  oeste    850    47        1\n 13  oeste  30000     1        5\n 14  oeste   1150    54        2\n 15  oeste   1600   128        2\n 16  oeste  19900   450        6\n 17  oeste  14000   800        6\n 18  oeste    800    41        1\n 19  oeste   1300    85        2\n 20  oeste    900    50        2\n 21  oeste  18900   450        6\n 22  oeste   1200    55        2\n 23  oeste   4500   510        4\n 24  oeste   1500    80     nada\n 25  oeste  20000   680        4\n 26  oeste  25000   700        9\n 27  oeste   2000    62        2\n 28  oeste   3800   180        3\n 29  oeste  14500   360     nada\n 30  oeste   7900   341        5\n 31  oeste  25000     1        5\n 32  oeste   8500   280        4\n 33  oeste  16000   500        5\n 34  oeste  30000   600        4\n 35  oeste   1000  nada        2\n 36  oeste    800    27        1\n 37  oeste   8000   633        3\n 38  oeste   4000   218        4\n 39  oeste   9000   622        6\n 40  oeste  18500   540        6\n 41  oeste   2300   140        3\n 42  oeste  25000   900        6\n 43  oeste   5000   180        3\n 44  oeste   3000   151        3\n 45  oeste  12000   300        4\n 46  oeste   2200   150        2\n 47  oeste   3800   180        3,\n      zona  preco   area quartos\n 0   oeste   6200   600        4\n 1   oeste  10000   622        6\n 2   oeste  40000     3        6\n 3   oeste  15000   485        5\n 4   oeste   8000   660        3\n 5   oeste   1200    90        2\n 6   oeste  25000     1        6\n 7   oeste  20000     1        4\n 8   oeste  15000   480        4\n 9   oeste    950    65        2\n 10  oeste  25000   600        4\n 11  oeste  10000     2        4\n 12  oeste  15000   290        4\n 13  oeste  24000   680        5\n 14  oeste  15000   360        4\n 15  oeste  25000   600        4\n 16  oeste  13000   600        5\n 17  oeste   3900   189        3\n 18  oeste  10500   450        3\n 19  oeste  30000   660        4\n 20  oeste  25000     1        5\n 21  oeste   7000   418        3\n 22  oeste  15000   400        5\n 23  oeste  40000   814        5\n 24  oeste  24900   900        6\n 25  oeste   3500   172     nada\n 26  oeste  30000   600        4\n 27  oeste   1100    50        2\n 28  oeste   2800   180        3\n 29  oeste   6000   285        3\n 30  oeste  30000   600        4\n 31  oeste    850    35        1\n 32  oeste   1100  nada        2\n 33  oeste   1250   152        3\n 34  oeste   7000   300     nada\n 35  oeste   1250    60        2\n 36  oeste    850    35        1\n 37  oeste   6900   539        4\n 38  oeste   1500    80     nada\n 39  oeste   1200    78        2\n 40  oeste   1000    43        1\n 41  oeste   3600   210        3\n 42  oeste   3000   310        3\n 43  oeste    900    80        1\n 44  oeste   4500   500        3\n 45  oeste   2300   140        3\n 46  oeste  10000   214        5\n 47  oeste   3800   180        3,\n      zona   preco   area quartos\n 0   oeste    2000   118        2\n 1   oeste    1100    76        2\n 2   oeste    6000   310        4\n 3   oeste    1000  nada        2\n 4   oeste    1000    50        2\n 5   oeste   32000   898        5\n 6   oeste    3200   150        3\n 7   oeste   13000   288        3\n 8   oeste   14000   750        5\n 9   oeste    5500   196        5\n 10  oeste    1250  nada        2\n 11  oeste   20000   599        4\n 12  oeste   24000   700        4\n 13  oeste   24000     1        5\n 14  oeste   20000   320        5\n 15  oeste   24000   500        4\n 16  oeste   15000   512        5\n 17  oeste    8000   606        4\n 18  oeste   25000   540        4\n 19  oeste   25000     1        5\n 20  oeste    3400   210        3\n 21  oeste   16000   650        4\n 22  oeste   23000   800        4\n 23  oeste   12000   450        4\n 24  oeste    1000    50        2\n 25  oeste   25000   600        4\n 26  oeste    7000   230        4\n 27  oeste   20000   897        4\n 28  oeste    1300    90        2\n 29  oeste    1200   100        3\n 30  oeste    6800   300        5\n 31  oeste   24000   460        4\n 32  oeste   27000   900        5\n 33  oeste   17000   650        3\n 34  oeste    7800   320        5\n 35  oeste   24000   860        5\n 36  oeste   25000   700        5\n 37  oeste   25000     1        6\n 38  oeste   30000   600        4\n 39  oeste    5900   380        5\n 40  oeste   13000   600        5\n 41  oeste  180000   120        2\n 42  oeste    3000   403        3\n 43  oeste     500    47        1\n 44  oeste   18000   540        4\n 45  oeste    1400   159        3\n 46  oeste    8000   520        4\n 47  oeste   14395   700        4,\n      zona   preco  area quartos\n 0   oeste   14950  512        4\n 1   oeste   21000    1        5\n 2   oeste    7000  450        4\n 3   oeste   15000  850     nada\n 4   oeste    2500  135        2\n 5   oeste    2500  135        2\n 6   oeste   15000  485        5\n 7   oeste    7500  300        4\n 8   oeste    1500   80        2\n 9   oeste    1950  148        4\n 10  oeste    2500  250        2\n 11  oeste    1100   92        2\n 12  oeste    1500   63        2\n 13  oeste    4000  310        5\n 14  oeste   16000  700        4\n 15  oeste    7500  450        5\n 16  oeste   12000  636        5\n 17  oeste   17000  750        4\n 18  oeste    3200  150        3\n 19  oeste    9500  428        4\n 20  oeste    1600  100     nada\n 21  oeste     800   50        1\n 22  oeste    1100   65        2\n 23  oeste   18000    1        4\n 24  oeste   12700  540        4\n 25  oeste    8800  401        5\n 26  oeste    7000  405        4\n 27  oeste   29999    1        5\n 28  oeste  130000  317        4\n 29  oeste   10000  428        5\n 30  oeste   15000  510        5\n 31  oeste    5500  251        3\n 32  oeste    5000  440        3\n 33  oeste   35000  928        5\n 34  oeste   15000  654        5\n 35  oeste   16000  700        4\n 36  oeste    4900  600        3\n 37  oeste    7500  442        3\n 38  oeste    6500  359        3\n 39  oeste     800   60        2\n 40  oeste    4000  120        2\n 41  oeste    1400   70        2\n 42  oeste    4500  180        4\n 43  oeste    5500  220        3\n 44  oeste    5000  180        4\n 45  oeste    1400   80        2\n 46  oeste    4000  170        4\n 47  oeste    1400   80        2,\n      zona  preco  area quartos\n 0   oeste   2800  190        4\n 1   oeste    900   60        2\n 2   oeste  14000  686        6\n 3   oeste   2000  168        3\n 4   oeste   8000  300        4\n 5   oeste   8000    1        4\n 6   oeste   1390  220        2\n 7   oeste   7000  210        4\n 8   oeste  14000  640        5\n 9   oeste   1000   60        2\n 10  oeste   1000   70        2\n 11  oeste    850   70        1\n 12  oeste  12000  250        5\n 13  oeste    700   60        1\n 14  oeste   2000   84        3\n 15  oeste    850   70        1\n 16  oeste    900   60        1\n 17  oeste   1500   70        2\n 18  oeste   2300  150        3\n 19  oeste   1500  155        3\n 20  oeste    800   60        2\n 21  oeste    900   60        2\n 22  oeste   3800  273        3\n 23  oeste   8000  535        4\n 24  oeste   1200   99        2\n 25  oeste  10000  280        5\n 26  oeste  12000  980        5\n 27  oeste    750   45        1\n 28  oeste   1500   80     nada\n 29  oeste   9000  210        4\n 30  oeste   1450   68        2\n 31  oeste  12500  260        3\n 32  oeste    950  100        2\n 33  oeste  50000  750        4\n 34  oeste  30000  600        4\n 35  oeste  22000  750        5\n 36  oeste  35000    1        5\n 37  oeste  25000  900        4\n 38  oeste  13000  600        5\n 39  oeste  15000  451        4\n 40  oeste  15000  500        5\n 41  oeste   6300  400        5\n 42  oeste   2400   90        2\n 43  oeste   2300   90        3\n 44  oeste   2800  120        2\n 45  oeste   2350  128        4\n 46  oeste   1000   60        2\n 47  oeste   1400   84        2,\n      zona preco   area quartos\n 0   oeste  3500   160        4\n 1   oeste  1300    95        2\n 2   oeste  1500   115        2\n 3   oeste   800   120        1\n 4   oeste   650    45        1\n 5   oeste  1500    74        3\n 6   oeste  2200   225        3\n 7   oeste  1400   159        3\n 8   oeste  3500   128        3\n 9   oeste  2300   180        3\n 10  oeste  1300    61        2\n 11  oeste  6800   333        6\n 12  oeste  1200    56        2\n 13  oeste  1100    80        2\n 14  oeste  1400   129        2\n 15  oeste  1000    60        2\n 16  oeste   750    55        2\n 17  oeste   900    59        2\n 18  oeste   850    61        2\n 19  oeste  1000    90        2\n 20  oeste  1100   105        2\n 21  oeste  5500   300        4\n 22  oeste  4500   300        3\n 23  oeste   500    54        1\n 24  oeste  3200   105        3\n 25  oeste   400    24        1\n 26  oeste  3700   380        4\n 27  oeste   900    75        1\n 28  oeste  1300    95        2\n 29  oeste   800    65        1\n 30  oeste  1600    75        2\n 31  oeste   750    55        2\n 32  oeste  1400    70        3\n 33  oeste  1500   100        2\n 34  oeste  1800   104        4\n 35  oeste   950    60        2\n 36  oeste   550    40        1\n 37  oeste  4980   330        4\n 38  oeste   700  nada        2\n 39  oeste  2000   220        3\n 40  oeste  1500   200        3\n 41  oeste  1500  nada        3\n 42  oeste   600    45        2\n 43  oeste   400  nada        1\n 44  oeste   900    70        3\n 45  oeste   630    50        2\n 46  oeste   550    45        1\n 47  oeste  1100    80        3,\n      zona  preco  area quartos\n 0   oeste    900   41        2\n 1   oeste    950    1        2\n 2   oeste   1000   90        2\n 3   oeste    630   50        2\n 4   oeste   2000  180        2\n 5   oeste    900   70     nada\n 6   oeste   3000  180        3\n 7   oeste    550   40        1\n 8   oeste   1200   82        2\n 9   oeste   3600  197        4\n 10  oeste   2000  300        4\n 11  oeste   3000  169        3\n 12  oeste    900  207        2\n 13  oeste    800   80        2\n 14  oeste    650   47        1\n 15  oeste   1000   70        2\n 16  oeste   1300  120        2\n 17  oeste   1000   99        2\n 18  oeste   2300  225        4\n 19  oeste    700   75        1\n 20  oeste    500   50        2\n 21  oeste   2500  130     nada\n 22  oeste   1200   80        2\n 23  oeste    550   36        1\n 24  oeste    900  120        4\n 25  oeste    700   52        2\n 26  oeste  40000    1        4\n 27  oeste    600   30        2\n 28  oeste    650   49        2\n 29  oeste   1200   52        2\n 30  oeste    850   60        2\n 31  oeste    900   40        4\n 32  oeste   1600  150        4\n 33  oeste   3500  180        3\n 34  oeste    550   20        1\n 35  oeste    650  111        1\n 36  oeste   1250   60        2\n 37  oeste    400   60        2\n 38  oeste    650   50        1\n 39  oeste    600   36        1\n 40  oeste   1000   50        1]"
     },
     "metadata": {},
     "execution_count": 5
    }
   ],
   "source": [
    "lista_dfs"
   ]
  },
  {
   "cell_type": "code",
   "execution_count": 6,
   "metadata": {},
   "outputs": [],
   "source": [
    "dados_raw = pd.concat(lista_dfs)"
   ]
  },
  {
   "cell_type": "code",
   "execution_count": 7,
   "metadata": {},
   "outputs": [
    {
     "output_type": "execute_result",
     "data": {
      "text/plain": "     zona       preco  area quartos\n0   norte  1048049932  220        4\n1   norte        1000   65        2\n2   norte         900   44        2\n3   norte         750   40        1\n4   norte        3000  300        7\n..    ...         ...   ...     ...\n36  oeste        1250   60        2\n37  oeste         400   60        2\n38  oeste         650   50        1\n39  oeste         600   36        1\n40  oeste        1000   50        1\n\n[622 rows x 4 columns]",
      "text/html": "<div>\n<style scoped>\n    .dataframe tbody tr th:only-of-type {\n        vertical-align: middle;\n    }\n\n    .dataframe tbody tr th {\n        vertical-align: top;\n    }\n\n    .dataframe thead th {\n        text-align: right;\n    }\n</style>\n<table border=\"1\" class=\"dataframe\">\n  <thead>\n    <tr style=\"text-align: right;\">\n      <th></th>\n      <th>zona</th>\n      <th>preco</th>\n      <th>area</th>\n      <th>quartos</th>\n    </tr>\n  </thead>\n  <tbody>\n    <tr>\n      <th>0</th>\n      <td>norte</td>\n      <td>1048049932</td>\n      <td>220</td>\n      <td>4</td>\n    </tr>\n    <tr>\n      <th>1</th>\n      <td>norte</td>\n      <td>1000</td>\n      <td>65</td>\n      <td>2</td>\n    </tr>\n    <tr>\n      <th>2</th>\n      <td>norte</td>\n      <td>900</td>\n      <td>44</td>\n      <td>2</td>\n    </tr>\n    <tr>\n      <th>3</th>\n      <td>norte</td>\n      <td>750</td>\n      <td>40</td>\n      <td>1</td>\n    </tr>\n    <tr>\n      <th>4</th>\n      <td>norte</td>\n      <td>3000</td>\n      <td>300</td>\n      <td>7</td>\n    </tr>\n    <tr>\n      <th>...</th>\n      <td>...</td>\n      <td>...</td>\n      <td>...</td>\n      <td>...</td>\n    </tr>\n    <tr>\n      <th>36</th>\n      <td>oeste</td>\n      <td>1250</td>\n      <td>60</td>\n      <td>2</td>\n    </tr>\n    <tr>\n      <th>37</th>\n      <td>oeste</td>\n      <td>400</td>\n      <td>60</td>\n      <td>2</td>\n    </tr>\n    <tr>\n      <th>38</th>\n      <td>oeste</td>\n      <td>650</td>\n      <td>50</td>\n      <td>1</td>\n    </tr>\n    <tr>\n      <th>39</th>\n      <td>oeste</td>\n      <td>600</td>\n      <td>36</td>\n      <td>1</td>\n    </tr>\n    <tr>\n      <th>40</th>\n      <td>oeste</td>\n      <td>1000</td>\n      <td>50</td>\n      <td>1</td>\n    </tr>\n  </tbody>\n</table>\n<p>622 rows × 4 columns</p>\n</div>"
     },
     "metadata": {},
     "execution_count": 7
    }
   ],
   "source": [
    "dados_raw"
   ]
  },
  {
   "cell_type": "code",
   "execution_count": 8,
   "metadata": {},
   "outputs": [],
   "source": [
    "dados_raw.to_csv('dadosMl.csv', index=False)"
   ]
  },
  {
   "cell_type": "code",
   "execution_count": null,
   "metadata": {},
   "outputs": [],
   "source": []
  }
 ],
 "metadata": {
  "kernelspec": {
   "display_name": "Python 3",
   "language": "python",
   "name": "python3"
  },
  "language_info": {
   "codemirror_mode": {
    "name": "ipython",
    "version": 3
   },
   "file_extension": ".py",
   "mimetype": "text/x-python",
   "name": "python",
   "nbconvert_exporter": "python",
   "pygments_lexer": "ipython3",
   "version": "3.8.3-final"
  }
 },
 "nbformat": 4,
 "nbformat_minor": 2
}